{
    "metadata": {
        "kernelspec": {
            "name": "SQL",
            "display_name": "SQL",
            "language": "sql"
        },
        "language_info": {
            "name": "sql",
            "version": ""
        },
        "extensions": {
            "azuredatastudio": {
                "version": 1,
                "views": []
            }
        }
    },
    "nbformat_minor": 2,
    "nbformat": 4,
    "cells": [
        {
            "cell_type": "markdown",
            "source": [
                "# SQL Developer Notes"
            ],
            "metadata": {
                "azdata_cell_guid": "cfbafdd8-063d-419e-9dc4-38ef31a0d8c7"
            },
            "attachments": {}
        },
        {
            "cell_type": "markdown",
            "source": [
                "This Azure Data Studio Notebook covers pretty much everything I've every had to do with SQL. You will need to download and restore the AventureWorks sample database from Microsoft to be able to run the queries.\n",
                "\n",
                "Download AventureWorks sample database: [https://docs.microsoft.com/en-us/sql/samples/adventureworks-install-configure?view=sql-server-ver15&tabs=ssms](https://docs.microsoft.com/en-us/sql/samples/adventureworks-install-configure?view=sql-server-ver15&tabs=ssms)\n",
                "\n",
                "Other Sample Databases: [https://github.com/microsoft/sql-server-samples/tree/master/samples/databases](https://github.com/microsoft/sql-server-samples/tree/master/samples/databases)\n",
                "\n",
                "## **Useful References**\n",
                "\n",
                "**RTFM** [https://docs.microsoft.com/en-us/sql/t-sql/language-reference?view=sql-server-ver15](https://docs.microsoft.com/en-us/sql/t-sql/language-reference?view=sql-server-ver15)\n",
                "\n",
                "**Data Types** [https://docs.microsoft.com/en-us/sql/t-sql/data-types/data-types-transact-sql?view=sql-server-ver15](https://docs.microsoft.com/en-us/sql/t-sql/data-types/data-types-transact-sql?view=sql-server-ver15)\n",
                "\n",
                "**Execution Plans** [https://docs.microsoft.com/en-us/sql/relational-databases/performance/execution-plans?view=sql-server-ver15](https://docs.microsoft.com/en-us/sql/relational-databases/performance/execution-plans?view=sql-server-ver15)\n",
                "\n",
                "**IO & Time Statistics** [https://www.mssqltips.com/sqlservertip/1255/getting-io-and-time-statistics-for-sql-server-queries/](https://www.mssqltips.com/sqlservertip/1255/getting-io-and-time-statistics-for-sql-server-queries/)"
            ],
            "metadata": {
                "azdata_cell_guid": "f4f33642-c23b-4160-a46c-c90a81474aff"
            },
            "attachments": {}
        },
        {
            "cell_type": "markdown",
            "source": [
                "# **Useful Queries**"
            ],
            "metadata": {
                "azdata_cell_guid": "0b16cb18-ba26-40fc-858e-d081d3691a68"
            },
            "attachments": {}
        },
        {
            "cell_type": "markdown",
            "source": [
                "## **Get all tables with a given column**"
            ],
            "metadata": {
                "azdata_cell_guid": "641bd0e3-0038-4333-840f-6bc71d4e375b"
            },
            "attachments": {}
        },
        {
            "cell_type": "code",
            "source": [
                "USE AdventureWorks2019;\r\n",
                "GO\r\n",
                "\r\n",
                "declare @catalog varchar(max) = 'AdventureWorks2019'\r\n",
                "declare @col varchar(max) = 'BusinessEntityID'\r\n",
                "\r\n",
                "\r\n",
                "SELECT Table_Name, Column_Name  \r\n",
                "FROM INFORMATION_SCHEMA.COLUMNS \r\n",
                "WHERE TABLE_CATALOG = @catalog \r\n",
                "AND COLUMN_NAME = @col\r\n",
                "ORDER BY TABLE_NAME"
            ],
            "metadata": {
                "azdata_cell_guid": "926f40d2-0670-4854-8887-0e54c330ef9f"
            },
            "outputs": [],
            "execution_count": null
        },
        {
            "cell_type": "markdown",
            "source": [
                "**BEGIN TRANSACTION**\n",
                "\n",
                "Marks the starting point of an explicit, local transaction. Explicit transactions start with the BEGIN TRANSACTION statement and end with the COMMIT or ROLLBACK statement."
            ],
            "metadata": {
                "azdata_cell_guid": "23704f95-4df5-45f7-8eab-c83ded58bb83"
            },
            "attachments": {}
        },
        {
            "cell_type": "code",
            "source": [
                "use AdventureWorks2019\r\n",
                "go\r\n",
                "\r\n",
                "select * FROM HumanResources.JobCandidate  \r\n",
                "    WHERE JobCandidateID = 13;  \r\n",
                "\r\n",
                "BEGIN TRANSACTION;  \r\n",
                "DELETE FROM HumanResources.JobCandidate  \r\n",
                "    WHERE JobCandidateID = 13;  \r\n",
                "ROLLBACK\r\n",
                "--COMMIT;  \r\n",
                "\r\n",
                "\r\n",
                "select * FROM HumanResources.JobCandidate  \r\n",
                "    WHERE JobCandidateID = 13;  "
            ],
            "metadata": {
                "azdata_cell_guid": "0429a79c-fe8a-45b7-9d0e-d4786f04e4dd",
                "tags": []
            },
            "outputs": [],
            "execution_count": null
        },
        {
            "cell_type": "markdown",
            "source": [
                "## **Debugging Tools**"
            ],
            "metadata": {
                "azdata_cell_guid": "68fe2b1d-d04e-488e-82fd-3acb09a7c4fb"
            },
            "attachments": {}
        },
        {
            "cell_type": "markdown",
            "source": [
                "### **PRINT** Returns a user-defined message to the client."
            ],
            "metadata": {
                "azdata_cell_guid": "aa3f3288-3ec0-47f9-a087-fff60c89ce40"
            },
            "attachments": {}
        },
        {
            "cell_type": "code",
            "source": [
                "DECLARE @PrintMessage NVARCHAR(50);  \r\n",
                "SET @PrintMessage = N'This message was printed on '  \r\n",
                "    + RTRIM(CAST(GETDATE() AS NVARCHAR(30)))  \r\n",
                "    + N'.';  \r\n",
                "PRINT @PrintMessage;  \r\n",
                "GO  "
            ],
            "metadata": {
                "azdata_cell_guid": "aa02997b-a0d9-45f5-a882-44ddd90d81d3"
            },
            "outputs": [],
            "execution_count": null
        },
        {
            "cell_type": "markdown",
            "source": [
                "**TRY CATCH**\n",
                "\n",
                "Example from [https://www.sqlshack.com/how-to-implement-error-handling-in-sql-server/](https://www.sqlshack.com/how-to-implement-error-handling-in-sql-server/)"
            ],
            "metadata": {
                "azdata_cell_guid": "f38f3270-8b39-4050-9942-bd4907827fff"
            },
            "attachments": {}
        },
        {
            "cell_type": "code",
            "source": [
                "USE AdventureWorks2019\r\n",
                "GO\r\n",
                "-- Basic example of TRY...CATCH\r\n",
                " \r\n",
                "BEGIN TRY\r\n",
                "-- Generate a divide-by-zero error  \r\n",
                "  SELECT\r\n",
                "    1 / 0 AS Error;\r\n",
                "END TRY\r\n",
                "BEGIN CATCH\r\n",
                "  SELECT\r\n",
                "    ERROR_NUMBER() AS ErrorNumber,\r\n",
                "    ERROR_STATE() AS ErrorState,\r\n",
                "    ERROR_SEVERITY() AS ErrorSeverity,\r\n",
                "    ERROR_PROCEDURE() AS ErrorProcedure,\r\n",
                "    ERROR_LINE() AS ErrorLine,\r\n",
                "    ERROR_MESSAGE() AS ErrorMessage;\r\n",
                "END CATCH;\r\n",
                "GO"
            ],
            "metadata": {
                "azdata_cell_guid": "677c2bbf-e182-4a98-a4ab-cf03a0ae698f"
            },
            "outputs": [],
            "execution_count": null
        },
        {
            "cell_type": "markdown",
            "source": [
                "# **Basics**"
            ],
            "metadata": {
                "azdata_cell_guid": "d30f5955-8be5-4948-ab2b-e4d5b4025bd8"
            },
            "attachments": {}
        },
        {
            "cell_type": "markdown",
            "source": [
                "### **SELECT**"
            ],
            "metadata": {
                "azdata_cell_guid": "2c592981-e8dc-4035-99f0-b0dbc6a3e9bd"
            },
            "attachments": {}
        },
        {
            "cell_type": "code",
            "source": [
                "USE AdventureWorks2019\r\n",
                "\r\n",
                "-- use aliases for table names\r\n",
                "SELECT \r\n",
                "p.*\r\n",
                "FROM\r\n",
                "Person.Person p\r\n",
                "WHERE\r\n",
                "p.LastName \r\n",
                "LIKE\r\n",
                "'A%'\r\n",
                "--NOT\r\n",
                "AND\r\n",
                "p.Title IN('Mr.', 'Mrs')\r\n",
                "OR\r\n",
                "p.ModifiedDate \r\n",
                "BETWEEN\r\n",
                "'2013-01-01'\r\n",
                "AND\r\n",
                "'2014-01-01'\r\n",
                "ORDER BY\r\n",
                "p.LastName"
            ],
            "metadata": {
                "azdata_cell_guid": "0ee1ffb6-9734-4d46-bc13-a1ee19404d43",
                "tags": []
            },
            "outputs": [],
            "execution_count": null
        },
        {
            "cell_type": "markdown",
            "source": [
                "### **JOINS**"
            ],
            "metadata": {
                "azdata_cell_guid": "db188146-db8a-4131-b414-7867e1ee89cf"
            },
            "attachments": {}
        },
        {
            "cell_type": "markdown",
            "source": [
                "### **INNER JOIN** Data that exists in both tables"
            ],
            "metadata": {
                "azdata_cell_guid": "67edd914-68e4-44ec-a059-a301f98e7ab9"
            },
            "attachments": {}
        },
        {
            "cell_type": "code",
            "source": [
                "select \r\n",
                "s.Name as StoreName\r\n",
                ", s.SalesPersonID\r\n",
                ", p.Title\r\n",
                ", p.FirstName\r\n",
                ", p.LastName\r\n",
                "from Sales.Store s\r\n",
                "INNER JOIN Sales.SalesPerson sp on sp.BusinessEntityID = s.SalesPersonID\r\n",
                "INNER JOIN Person.Person p on p.BusinessEntityID = sp.BusinessEntityID\r\n",
                ""
            ],
            "metadata": {
                "azdata_cell_guid": "b51c45de-405a-4120-8004-f474cfc4bc99",
                "tags": []
            },
            "outputs": [],
            "execution_count": null
        },
        {
            "cell_type": "markdown",
            "source": [
                "### **LEFT JOIN** Data that exists in both tables and all of the rows from the table in the FROM clause"
            ],
            "metadata": {
                "azdata_cell_guid": "63e6010c-676a-4f34-98b0-f7885114a871"
            },
            "attachments": {}
        },
        {
            "cell_type": "code",
            "source": [
                "USE AdventureWorks2019\r\n",
                "\r\n",
                "-- LEFT JOIN Returns Data that exists in both tables and ALL of the rows from the table in the From Clause\r\n",
                "-- select COUNT(*) from Person.Person \r\n",
                "\r\n",
                "select \r\n",
                "p.BusinessEntityID as PersonBusinessEntityID\r\n",
                ", sp.BusinessEntityID as SalesPersonBusinessEntityID\r\n",
                ", p.FirstName\r\n",
                ", p.LastName\r\n",
                ", p.PersonType\r\n",
                "from\r\n",
                "Person.Person p\r\n",
                " LEFT JOIN \r\n",
                "Sales.SalesPerson sp on sp.BusinessEntityID = P.BusinessEntityID"
            ],
            "metadata": {
                "azdata_cell_guid": "e6e5ed90-b21a-4968-a918-44fc55150d22"
            },
            "outputs": [],
            "execution_count": null
        },
        {
            "cell_type": "markdown",
            "source": [
                "**RIGHT JOIN** Data that exists in both tables and all of the rows from the table in the JOIN clause"
            ],
            "metadata": {
                "azdata_cell_guid": "16ba4882-85f0-4525-9522-f9a47213c89e"
            },
            "attachments": {}
        },
        {
            "cell_type": "code",
            "source": [
                "USE AdventureWorks2019\r\n",
                "\r\n",
                "-- LEFT JOIN Returns Data that exists in both tables and ALL of the rows from the table in the JOIN Clause\r\n",
                "-- select COUNT(*) from Sales.SalesPerson\r\n",
                "\r\n",
                "select \r\n",
                "p.BusinessEntityID as PersonBusinessEntityID\r\n",
                ", sp.BusinessEntityID as SalesPersonBusinessEntityID\r\n",
                ", p.FirstName\r\n",
                ", p.LastName\r\n",
                ", p.PersonType\r\n",
                "from\r\n",
                "Person.Person p\r\n",
                " right JOIN \r\n",
                "Sales.SalesPerson sp on sp.BusinessEntityID = P.BusinessEntityID\r\n",
                "\r\n",
                ""
            ],
            "metadata": {
                "azdata_cell_guid": "06ca45d7-f2e9-4d71-833e-6a24c55b8186"
            },
            "outputs": [],
            "execution_count": null
        },
        {
            "cell_type": "markdown",
            "source": [
                "**UNION** <span style=\"color: rgb(0, 0, 0); font-family: Verdana, sans-serif; font-size: 15px; background-color: rgb(255, 255, 255);\">combines the result set of two or more SELECT statements (only distinct values)</span>"
            ],
            "metadata": {
                "azdata_cell_guid": "02f8456a-4a89-4a6c-a9a9-79513cabcc5d"
            },
            "attachments": {}
        },
        {
            "cell_type": "code",
            "source": [
                "SELECT \r\n",
                "p.BusinessEntityID\r\n",
                ", p.FirstName\r\n",
                ", p.LastName\r\n",
                "FROM Person.Person p\r\n",
                "UNION \r\n",
                "select\r\n",
                "c.PersonID AS BusinessEntityID\r\n",
                ", p.FirstName\r\n",
                ", p.LastName\r\n",
                "from\r\n",
                "Sales.Customer c\r\n",
                "JOIN Person.Person p on p.BusinessEntityID = C.PersonID"
            ],
            "metadata": {
                "azdata_cell_guid": "cba80130-f161-40c1-9099-79572b81d8c7"
            },
            "outputs": [],
            "execution_count": null
        },
        {
            "cell_type": "markdown",
            "source": [
                "**UNION ALL** <span style=\"color: rgb(0, 0, 0); font-family: Verdana, sans-serif; font-size: 15px; background-color: rgb(255, 255, 255);\">command combines the result set of two or more SELECT statements (allows duplicate values).</span>"
            ],
            "metadata": {
                "azdata_cell_guid": "42285f16-6a2d-4045-913c-7b7afd5cdfde"
            },
            "attachments": {}
        },
        {
            "cell_type": "code",
            "source": [
                "SELECT \r\n",
                "p.BusinessEntityID\r\n",
                ", p.FirstName\r\n",
                ", p.LastName\r\n",
                "FROM Person.Person p\r\n",
                "UNION ALL\r\n",
                "select\r\n",
                "c.PersonID AS BusinessEntityID\r\n",
                ", p.FirstName\r\n",
                ", p.LastName\r\n",
                "from\r\n",
                "Sales.Customer c\r\n",
                "JOIN Person.Person p on p.BusinessEntityID = C.PersonID"
            ],
            "metadata": {
                "azdata_cell_guid": "8433c167-fa5a-4c0c-92da-380f6ead3809"
            },
            "outputs": [],
            "execution_count": null
        },
        {
            "cell_type": "markdown",
            "source": [
                "<span style=\"font-size: 11pt; font-family: Arial; color: rgb(0, 0, 0); background-color: transparent; font-variant-numeric: normal; font-variant-east-asian: normal; vertical-align: baseline; white-space: pre-wrap;\"><b>SELF JOIN </b></span> <span style=\"color: rgb(0, 0, 0); font-family: Verdana, sans-serif; font-size: 15px; background-color: rgb(255, 255, 255);\">A self join is a regular join, but the table is joined with itself.</span>\n",
                "\n",
                "<span style=\"color: rgb(0, 0, 0); font-family: Verdana, sans-serif; font-size: 15px; background-color: rgb(255, 255, 255);\">Example Reference:&nbsp;</span> [https://blog.sqlauthority.com/2007/06/03/sql-server-2005-explanation-and-example-self-join/](https://blog.sqlauthority.com/2007/06/03/sql-server-2005-explanation-and-example-self-join/)"
            ],
            "metadata": {
                "azdata_cell_guid": "2f19e297-cd00-430f-9f82-3a8c412adb9e"
            },
            "attachments": {}
        },
        {
            "cell_type": "code",
            "source": [
                "USE AdventureWorks2019;\r\n",
                "GO\r\n",
                "SELECT DISTINCT pv1.ProductID, pv1.BusinessEntityID\r\n",
                "FROM Purchasing.ProductVendor pv1\r\n",
                "INNER JOIN Purchasing.ProductVendor pv2\r\n",
                "ON pv1.ProductID = pv2.ProductID\r\n",
                "AND pv1.BusinessEntityID = pv2.BusinessEntityID\r\n",
                "ORDER BY pv1.ProductID"
            ],
            "metadata": {
                "azdata_cell_guid": "e21341d8-364c-4ba7-bb71-cb184fe4d3c7"
            },
            "outputs": [],
            "execution_count": null
        },
        {
            "cell_type": "markdown",
            "source": [
                "**CROSS JOIN** <span style=\"color: rgb(37, 37, 37); font-family: &quot;Segoe UI&quot;, Tahoma, Arial; background-color: rgb(255, 255, 255);\">used to generate a paired combination of each row of the first table with each row of the second table. This join type is also known as cartesian join.</span>"
            ],
            "metadata": {
                "azdata_cell_guid": "7c09817b-13fb-4d11-b804-932e42d6913b"
            },
            "attachments": {}
        },
        {
            "cell_type": "code",
            "source": [
                "select * from Person.PersonPhone\r\n",
                "cross join Person.PhoneNumberType"
            ],
            "metadata": {
                "azdata_cell_guid": "58ae4826-fcc3-41e6-97d7-e82195c657ed"
            },
            "outputs": [],
            "execution_count": null
        },
        {
            "cell_type": "markdown",
            "source": [
                "### <span style=\"font-size: 11pt; font-family: Arial; color: rgb(0, 0, 0); background-color: transparent; font-variant-numeric: normal; font-variant-east-asian: normal; vertical-align: baseline; white-space: pre-wrap;\"><b>AGREGATIONS : </b>SUM, AVG, COUNT, MIN, MAX, GROUP BY, HAVING</span>"
            ],
            "metadata": {
                "azdata_cell_guid": "3ff99e35-4bec-435a-b97d-e116e72113b9"
            },
            "attachments": {}
        },
        {
            "cell_type": "markdown",
            "source": [
                "**SUM** Get the total of amount due of all purchase orders"
            ],
            "metadata": {
                "azdata_cell_guid": "d7cd3281-8f93-40e2-ab1d-fa7a1f58f403"
            },
            "attachments": {}
        },
        {
            "cell_type": "code",
            "source": [
                "USE AdventureWorks2019;\r\n",
                "GO\r\n",
                "select \r\n",
                "SUM(po.TotalDue)\r\n",
                "from Purchasing.PurchaseOrderHeader po"
            ],
            "metadata": {
                "azdata_cell_guid": "dea364d1-896b-4646-a442-045b9e620bf4"
            },
            "outputs": [],
            "execution_count": null
        },
        {
            "cell_type": "markdown",
            "source": [
                "**AVG** Get the average amount due for purchase orders"
            ],
            "metadata": {
                "azdata_cell_guid": "e3d721c4-9ddd-4a04-aa62-2b5210da2197"
            },
            "attachments": {}
        },
        {
            "cell_type": "code",
            "source": [
                "USE AdventureWorks2019;\r\n",
                "GO\r\n",
                "select \r\n",
                "AVG(po.TotalDue)\r\n",
                "from Purchasing.PurchaseOrderHeader po"
            ],
            "metadata": {
                "azdata_cell_guid": "8bfd5cc8-8d28-4e7f-985f-05938d48be64"
            },
            "outputs": [],
            "execution_count": null
        },
        {
            "cell_type": "markdown",
            "source": [
                "<span style=\"font-size: 11pt; font-family: Arial; color: rgb(0, 0, 0); background-color: transparent; font-variant-numeric: normal; font-variant-east-asian: normal; vertical-align: baseline; white-space: pre-wrap;\"><b>COUNT </b>Get total number of orders</span>"
            ],
            "metadata": {
                "azdata_cell_guid": "8fa71770-0064-4466-bf6f-9d3ac2255146"
            },
            "attachments": {}
        },
        {
            "cell_type": "code",
            "source": [
                "USE AdventureWorks2019;\r\n",
                "GO\r\n",
                "select \r\n",
                "COUNT(po.TotalDue)\r\n",
                "from Purchasing.PurchaseOrderHeader po"
            ],
            "metadata": {
                "azdata_cell_guid": "36e6287e-5dec-4e8b-8a2a-c34d7c972051"
            },
            "outputs": [],
            "execution_count": null
        },
        {
            "cell_type": "markdown",
            "source": [
                "<span style=\"font-size: 11pt; font-family: Arial; color: rgb(0, 0, 0); background-color: transparent; font-variant-numeric: normal; font-variant-east-asian: normal; vertical-align: baseline; white-space: pre-wrap;\"><b>MIN </b>Get the lowest total due amount</span>"
            ],
            "metadata": {
                "azdata_cell_guid": "651a21e6-322f-4251-b49a-9f4274736a9d"
            },
            "attachments": {}
        },
        {
            "cell_type": "code",
            "source": [
                "USE AdventureWorks2019;\r\n",
                "GO\r\n",
                "select \r\n",
                "MIN(po.TotalDue)\r\n",
                "from Purchasing.PurchaseOrderHeader po"
            ],
            "metadata": {
                "azdata_cell_guid": "600191a8-6756-4523-970a-3101fbb6a165"
            },
            "outputs": [],
            "execution_count": null
        },
        {
            "cell_type": "markdown",
            "source": [
                "<span style=\"font-size: 11pt; font-family: Arial; color: rgb(0, 0, 0); background-color: transparent; font-variant-numeric: normal; font-variant-east-asian: normal; vertical-align: baseline; white-space: pre-wrap;\"><b>MAX </b></span> <span style=\"color: rgb(0, 0, 0); font-family: Arial; font-size: 14.6667px; white-space: pre-wrap;\">Get the highest total due amount</span>"
            ],
            "metadata": {
                "azdata_cell_guid": "d560e677-57c5-424e-b983-6b7aa5872c40"
            },
            "attachments": {}
        },
        {
            "cell_type": "code",
            "source": [
                "USE AdventureWorks2019;\r\n",
                "GO\r\n",
                "select \r\n",
                "MAX(po.TotalDue)\r\n",
                "from Purchasing.PurchaseOrderHeader po"
            ],
            "metadata": {
                "azdata_cell_guid": "15574164-55e9-4b10-a4ac-a6e5e0f3a71b"
            },
            "outputs": [],
            "execution_count": null
        },
        {
            "cell_type": "markdown",
            "source": [
                "**GROUP BY** <span style=\"background-color: rgb(255, 255, 255); color: rgb(0, 0, 0); font-family: Verdana, sans-serif; font-size: 15px;\">groups rows that have the same values into summary rows, like \"find the number of customers in each country\".</span>"
            ],
            "metadata": {
                "azdata_cell_guid": "c2e3a3e2-90f4-4804-8a88-60a77d826dc1"
            },
            "attachments": {}
        },
        {
            "cell_type": "code",
            "source": [
                "USE AdventureWorks2019;\r\n",
                "GO\r\n",
                "select \r\n",
                "c.AccountNumber\r\n",
                ", p.Title\r\n",
                ", p.FirstName\r\n",
                ", p.LastName\r\n",
                ", c.StoreID\r\n",
                ", s.Name\r\n",
                "from Sales.Customer c\r\n",
                "join  Person.Person p on p.BusinessEntityID = c.CustomerID\r\n",
                "JOIN  Sales.Store s on s.BusinessEntityID = c.StoreID\r\n",
                "GROUP BY \r\n",
                "c.AccountNumber, p.Title, p.FirstName, p.LastName, c.StoreID, s.Name"
            ],
            "metadata": {
                "azdata_cell_guid": "1078900c-15a4-4d5f-9c36-3e80c69a8c80"
            },
            "outputs": [],
            "execution_count": null
        },
        {
            "cell_type": "markdown",
            "source": [
                "**HAVING** <span style=\"color: rgb(0, 0, 0); font-family: Verdana, sans-serif; font-size: 15px; background-color: rgb(255, 255, 255);\">added to SQL because the&nbsp;</span> `WHERE` <span style=\"color: rgb(0, 0, 0); font-family: Verdana, sans-serif; font-size: 15px; background-color: rgb(255, 255, 255);\">&nbsp;keyword cannot be used with aggregate functions</span>"
            ],
            "metadata": {
                "azdata_cell_guid": "212ab56e-3b5b-474c-a2cf-8a0d9eadaadc"
            },
            "attachments": {}
        },
        {
            "cell_type": "code",
            "source": [
                "USE AdventureWorks2019;\r\n",
                "GO\r\n",
                "select \r\n",
                "c.AccountNumber\r\n",
                ", p.Title\r\n",
                ", p.FirstName\r\n",
                ", p.LastName\r\n",
                ", c.StoreID\r\n",
                ", s.Name\r\n",
                "from Sales.Customer c\r\n",
                "join  Person.Person p on p.BusinessEntityID = c.CustomerID\r\n",
                "JOIN  Sales.Store s on s.BusinessEntityID = c.StoreID\r\n",
                "GROUP BY \r\n",
                "c.AccountNumber, p.Title, p.FirstName, p.LastName, c.StoreID, s.Name\r\n",
                "HAVING COUNT(c.CustomerID) > 0"
            ],
            "metadata": {
                "azdata_cell_guid": "082c67d2-086a-4e3b-81cb-ead4809ec113"
            },
            "outputs": [],
            "execution_count": null
        },
        {
            "cell_type": "markdown",
            "source": [
                "## <span style=\"font-size: 11pt; font-family: Arial; color: rgb(0, 0, 0); background-color: transparent; font-variant-numeric: normal; font-variant-east-asian: normal; vertical-align: baseline; white-space: pre-wrap;\"><b>DATE FUNCTIONS</b></span>\n",
                "\n",
                "> <span style=\"font-size: 14.6667px; white-space: pre-wrap;\"><b>PostGresSQL and MySQL</b></span>\n",
                "\n",
                "```\n",
                "DATE_TRUNC('day', name of date column)\n",
                "```\n",
                "```\n",
                "DATE_PART('day', 2017-04-01 12:15:01) returns day of weekD\n",
                "```\n",
                "```\n",
                "ATE_PART('month', 2017-04-01 12:15:01) returns month\n",
                "```\n",
                "```\n",
                "DATE_PART('year', 2017-04-01 12:15:01) returns year\n",
                "```"
            ],
            "metadata": {
                "azdata_cell_guid": "858d9e4a-3ab4-4bc4-99ec-81ef44fe9605"
            },
            "attachments": {}
        },
        {
            "cell_type": "markdown",
            "source": [
                "**T-SQL Date Functions**"
            ],
            "metadata": {
                "azdata_cell_guid": "5c51d529-96d1-4126-b6e3-0101b4a9aeb6"
            },
            "attachments": {}
        },
        {
            "cell_type": "code",
            "source": [
                "declare @d datetime = getdate()\r\n",
                "\r\n",
                "select @d\r\n",
                "\r\n",
                "SELECT DATEPART(year, @d), DATEPART(month, @d), DATEPART(day, @d);  "
            ],
            "metadata": {
                "azdata_cell_guid": "b1440db9-32c3-46cb-b235-09b1a42e1132"
            },
            "outputs": [],
            "execution_count": null
        },
        {
            "cell_type": "markdown",
            "source": [
                "<span style=\"font-size: 11pt; font-family: Arial; color: rgb(0, 0, 0); background-color: transparent; font-variant-numeric: normal; font-variant-east-asian: normal; vertical-align: baseline; white-space: pre-wrap;\"><b>CASE STATEMENTS</b></span>"
            ],
            "metadata": {
                "azdata_cell_guid": "e150788a-ccdb-45d6-82e9-9919efe2d1ea"
            },
            "attachments": {}
        },
        {
            "cell_type": "code",
            "source": [
                "USE AdventureWorks2019;\r\n",
                "GO\r\n",
                "\r\n",
                "CASE = IF THEN\r\n",
                "\r\n",
                "SELECT account_id, total_amt_usd,\r\n",
                "CASE WHEN total_amt_usd > 3000 THEN 'Large'\r\n",
                "ELSE 'Small' END AS order_level\r\n",
                "FROM orders;\r\n",
                ""
            ],
            "metadata": {
                "azdata_cell_guid": "15e8a118-d366-4ae6-858a-36223ac36f1a"
            },
            "outputs": [],
            "execution_count": null
        },
        {
            "cell_type": "markdown",
            "source": [
                "<span style=\"font-size: 11pt; font-family: Arial; color: rgb(0, 0, 0); background-color: transparent; font-variant-numeric: normal; font-variant-east-asian: normal; vertical-align: baseline; white-space: pre-wrap;\"><b>SUB QUERIES </b></span> Subqueries are queries that are nested inside of another query or statement"
            ],
            "metadata": {
                "azdata_cell_guid": "7fd52e6e-635b-4a62-83d1-4501c64ee76c"
            },
            "attachments": {}
        },
        {
            "cell_type": "code",
            "source": [
                "use AdventureWorks2019\r\n",
                "go\r\n",
                "select \r\n",
                "p.ProductID\r\n",
                ", p.Name\r\n",
                ", p.ProductNumber\r\n",
                ", \r\n",
                "(\r\n",
                " select AVG(Production.ProductListPriceHistory.ListPrice) \r\n",
                " from Production.ProductListPriceHistory\r\n",
                " WHERE \r\n",
                " ProductID = p.ProductID\r\n",
                ") as AverageListPrice\r\n",
                "from Production.Product p\r\n",
                "WHERE\r\n",
                "(\r\n",
                "select AVG(Production.ProductListPriceHistory.ListPrice) \r\n",
                " from Production.ProductListPriceHistory\r\n",
                " WHERE \r\n",
                " ProductID = p.ProductID\r\n",
                ") > 10.00"
            ],
            "metadata": {
                "azdata_cell_guid": "f500846f-a358-4a21-8060-f37158fdb18e"
            },
            "outputs": [],
            "execution_count": null
        },
        {
            "cell_type": "markdown",
            "source": [
                "<span style=\"font-size: 11pt; font-family: Arial; color: rgb(0, 0, 0); background-color: transparent; font-variant-numeric: normal; font-variant-east-asian: normal; vertical-align: baseline; white-space: pre-wrap;\"><b>WITH : CTE (Common Table Expression) </b></span> <span style=\"background-color: transparent; color: rgb(0, 0, 0); font-family: Arial; font-size: 11pt; white-space: pre-wrap;\">You can use a WITH statement to use the results of a sub query in the same way as any table</span>\n",
                "\n",
                "We can put subqueries in the FROM clause and access the rows returned from them like any other table. For instance, if we want to know which employees have more vacation hours than average for their job title, we might write:<span style=\"background-color: transparent; color: rgb(0, 0, 0); font-family: Arial; font-size: 11pt; white-space: pre-wrap;\"><br></span>\n",
                "\n",
                "Example From: [https://www.mssqltips.com/sqlservertip/4728/introduction-to-subqueries-in-sql-server/](https://www.mssqltips.com/sqlservertip/4728/introduction-to-subqueries-in-sql-server/)"
            ],
            "metadata": {
                "azdata_cell_guid": "cfcbb2ed-fbb0-4838-a3f2-70cebb7588aa"
            },
            "attachments": {}
        },
        {
            "cell_type": "code",
            "source": [
                "use AdventureWorks2019\r\n",
                "go\r\n",
                "\r\n",
                "\r\n",
                "SELECT\r\n",
                "  E1.BusinessEntityID,\r\n",
                "  E1.LoginID,\r\n",
                "  E1.JobTitle,\r\n",
                "  E1.VacationHours,\r\n",
                "  Sub.AverageVacation --Drawn from the subquery\r\n",
                "FROM HumanResources.Employee E1\r\n",
                "JOIN (SELECT\r\n",
                "      JobTitle,\r\n",
                "      AVG(VacationHours) AverageVacation\r\n",
                "      FROM HumanResources.Employee E2\r\n",
                "      GROUP BY JobTitle) sub\r\n",
                "ON E1.JobTitle = Sub.JobTitle\r\n",
                "WHERE E1.VacationHours > Sub.AverageVacation\r\n",
                "ORDER BY E1.JobTitle"
            ],
            "metadata": {
                "azdata_cell_guid": "a0400a95-779d-4f80-9d34-b0e7294d12c5"
            },
            "outputs": [],
            "execution_count": null
        },
        {
            "cell_type": "markdown",
            "source": [
                "## **Temporary Tables**\n",
                "\n",
                "These can be very useful for ad hoc queries.  Technically the example below is a Table Variable see [https://www.c-sharpcorner.com/article/temporary-tables-and-table-variables-in-sql/](https://www.c-sharpcorner.com/article/temporary-tables-and-table-variables-in-sql/)"
            ],
            "metadata": {
                "azdata_cell_guid": "2b6bb57a-8063-40d5-a5ad-b8ddc6e79ca7"
            },
            "attachments": {}
        },
        {
            "cell_type": "code",
            "source": [
                "use AdventureWorks2019\r\n",
                "go\r\n",
                "\r\n",
                "declare @tmp table\r\n",
                "(\r\n",
                "\tTerritory varchar(max),\r\n",
                "\tStore varchar(max),\r\n",
                "\tFirstName varchar(max),\r\n",
                "\tLastName varchar(max),\r\n",
                "\tSalesYTD varchar(max)\r\n",
                ")\r\n",
                "\r\n",
                "INSERT INTO @tmp\r\n",
                "\r\n",
                "select \r\n",
                "t.Name as Territory\r\n",
                ", st.Name as Store\r\n",
                ", p.FirstName\r\n",
                ", p.LastName\r\n",
                ",sp.SalesYTD\r\n",
                "from Sales.SalesPerson sp\r\n",
                "JOIN Sales.SalesTerritory t on t.TerritoryID = sp.TerritoryID\r\n",
                "JOIN Sales.Store st on st.SalesPersonID = sp.BusinessEntityID\r\n",
                "JOIN Person.Person p on p.BusinessEntityID = sp.BusinessEntityID\r\n",
                "\r\n",
                "select * from @tmp"
            ],
            "metadata": {
                "azdata_cell_guid": "c67da49e-8558-42a7-8ce8-42d6abf24fb3"
            },
            "outputs": [],
            "execution_count": null
        },
        {
            "cell_type": "markdown",
            "source": [
                ""
            ],
            "metadata": {
                "azdata_cell_guid": "4a626fd3-2291-4fe7-90b2-6980c880b25f"
            }
        },
        {
            "cell_type": "markdown",
            "source": [
                "# Data Cleaning"
            ],
            "metadata": {
                "azdata_cell_guid": "666155d2-e73a-41c0-8631-81aa16b81aaa"
            },
            "attachments": {}
        },
        {
            "cell_type": "markdown",
            "source": [
                "**LEFT, RIGHT, LOWER, UPPER, CHARINDEX**"
            ],
            "metadata": {
                "azdata_cell_guid": "9d47020f-3a7f-4094-8e92-8f1915ca1a9d"
            },
            "attachments": {}
        },
        {
            "cell_type": "code",
            "source": [
                "select \r\n",
                "LOWER(p.FirstName) as FirstName\r\n",
                ", UPPER( p.LastName) as LastName\r\n",
                ", LEFT(p.LastName, 3) as FirstThreeLettersOfLastName\r\n",
                ", RIGHT(p.LastName, 3) as LastThreeLettersOfLastName\r\n",
                ", CHARINDEX('a', p.LastName) as IndexOfA\r\n",
                "from Person.Person p"
            ],
            "metadata": {
                "azdata_cell_guid": "0ce0f415-3b3f-4076-a496-7e22342bce3d"
            },
            "outputs": [],
            "execution_count": null
        },
        {
            "cell_type": "markdown",
            "source": [
                "**CONCAT**"
            ],
            "metadata": {
                "azdata_cell_guid": "13acb96a-dfc7-444d-97f3-14ad8a84dbef"
            },
            "attachments": {}
        },
        {
            "cell_type": "code",
            "source": [
                "SELECT CONCAT( p.FirstName + ' ', p.LastName) AS FullName FROM  Person.Person p"
            ],
            "metadata": {
                "azdata_cell_guid": "46c6dfc4-407c-4cb4-b1c8-2bd2390c4f7a"
            },
            "outputs": [],
            "execution_count": null
        },
        {
            "cell_type": "markdown",
            "source": [
                "**CAST**"
            ],
            "metadata": {
                "azdata_cell_guid": "43920c49-dcbe-4598-9b8f-59027826df45"
            },
            "attachments": {}
        },
        {
            "cell_type": "code",
            "source": [
                "SELECT CAST(25.65 AS int); "
            ],
            "metadata": {
                "azdata_cell_guid": "c00544ee-5069-44ab-8769-2ce8a0024860"
            },
            "outputs": [],
            "execution_count": null
        },
        {
            "cell_type": "markdown",
            "source": [
                "**COALESCE** Return the first non-null value in a list"
            ],
            "metadata": {
                "azdata_cell_guid": "e3b903ed-6038-42aa-883e-7c76a5ce93c2"
            },
            "attachments": {}
        },
        {
            "cell_type": "code",
            "source": [
                "SELECT COALESCE(NULL, 1, 2, 0); "
            ],
            "metadata": {
                "azdata_cell_guid": "3e49e227-82d2-44af-858a-2fa0a78bfe90"
            },
            "outputs": [],
            "execution_count": null
        },
        {
            "cell_type": "markdown",
            "source": [
                "# WINDOW FUNCTIONS"
            ],
            "metadata": {
                "azdata_cell_guid": "c39c8d2a-16cd-42c9-a330-591e51761906"
            },
            "attachments": {}
        },
        {
            "cell_type": "markdown",
            "source": [
                "**OVER** You can use the OVER clause with functions to compute aggregated values such as running totals.\n",
                "\n",
                "See: [https://docs.microsoft.com/en-us/sql/t-sql/queries/select-over-clause-transact-sql?view=sql-server-ver15](https://docs.microsoft.com/en-us/sql/t-sql/queries/select-over-clause-transact-sql?view=sql-server-ver15)\n",
                "\n",
                "See: [https://blog.sqlauthority.com/2015/11/04/sql-server-what-is-the-over-clause-notes-from-the-field-101/](https://blog.sqlauthority.com/2015/11/04/sql-server-what-is-the-over-clause-notes-from-the-field-101/)"
            ],
            "metadata": {
                "azdata_cell_guid": "17e4cf43-5902-4b88-b30c-d204b0db80ee"
            },
            "attachments": {}
        },
        {
            "cell_type": "code",
            "source": [
                "select \r\n",
                "od.AccountNumber\r\n",
                ", od.OrderDate\r\n",
                ",\r\n",
                "od.TotalDue,\r\n",
                "\tSUM(od.TotalDue) \r\n",
                "\tOVER (order by od.OrderDate) as RunningTotal\r\n",
                "from \r\n",
                "Sales.SalesOrderHeader od"
            ],
            "metadata": {
                "azdata_cell_guid": "f2ce9a9d-925d-4bec-9de2-40b1f6e57e46"
            },
            "outputs": [],
            "execution_count": null
        },
        {
            "cell_type": "markdown",
            "source": [
                "**LAG, LEAD**\n",
                "\n",
                "**LAG** Returns <span style=\"background-color: transparent; color: rgb(0, 0, 0); font-family: Arial; font-size: 11pt; white-space: pre-wrap;\">value from a previous row to the current row in the table</span>\n",
                "\n",
                "**LEAD** Returns <span style=\"background-color: transparent; color: rgb(0, 0, 0); font-family: Arial; font-size: 11pt; white-space: pre-wrap;\">value from the row following the current row in the table</span>"
            ],
            "metadata": {
                "azdata_cell_guid": "c64e10f5-da20-4d32-a1eb-d396e76ebeed"
            },
            "attachments": {}
        },
        {
            "cell_type": "code",
            "source": [
                "select \r\n",
                "od.SalesOrderID\r\n",
                ", od.OrderDate\r\n",
                ", od.CustomerID\r\n",
                ", od.SalesOrderID\r\n",
                ", od.SubTotal\r\n",
                ", od.TaxAmt\r\n",
                ", od.TotalDue\r\n",
                ", LAG(od.TotalDue) OVER (ORDER BY od.OrderDate) as PreviousOrderTotal\r\n",
                ", LEAD(od.TotalDue) OVER (ORDER BY od.OrderDate) as NextOrderTotal\r\n",
                "from \r\n",
                "Sales.SalesOrderHeader od\r\n",
                "where od.AccountNumber = '10-4020-000676'"
            ],
            "metadata": {
                "azdata_cell_guid": "4b099ba9-5585-4f44-b057-d6cf9ed320c0"
            },
            "outputs": [],
            "execution_count": null
        },
        {
            "cell_type": "code",
            "source": [
                "-- get difference between next order total and order in row\r\n",
                "USE AdventureWorks2019;\r\n",
                "GO  \r\n",
                "select \r\n",
                "od.SalesOrderID\r\n",
                ", od.OrderDate\r\n",
                ", od.CustomerID\r\n",
                ", od.SalesOrderID\r\n",
                ", od.SubTotal\r\n",
                ", od.TaxAmt\r\n",
                ", od.TotalDue\r\n",
                ", LEAD(od.TotalDue) OVER (ORDER BY od.OrderDate) as NextOrderTotal\r\n",
                ", LEAD(od.TotalDue) OVER (ORDER BY od.OrderDate) - od.TotalDue as OrderTotalDifference\r\n",
                "from \r\n",
                "Sales.SalesOrderHeader od"
            ],
            "metadata": {
                "azdata_cell_guid": "605ff7c0-e4aa-4b3e-b3af-01329fb077c9"
            },
            "outputs": [],
            "execution_count": null
        },
        {
            "cell_type": "markdown",
            "source": [
                ""
            ],
            "metadata": {
                "azdata_cell_guid": "d8a623b5-8016-4fef-b44d-63808bedde93"
            },
            "attachments": {}
        },
        {
            "cell_type": "markdown",
            "source": [
                "**PARTITION BY** [https://docs.microsoft.com/en-us/sql/t-sql/queries/select-over-clause-transact-sql?view=sql-server-ver15](https://docs.microsoft.com/en-us/sql/t-sql/queries/select-over-clause-transact-sql?view=sql-server-ver15)"
            ],
            "metadata": {
                "azdata_cell_guid": "79b5c877-14b0-4cfd-bfe9-77da1da20d7d"
            },
            "attachments": {}
        },
        {
            "cell_type": "code",
            "source": [
                "USE AdventureWorks2019;\r\n",
                "GO  \r\n",
                "SELECT ROW_NUMBER() OVER(PARTITION BY PostalCode ORDER BY SalesYTD DESC) AS \"Row Number\",   \r\n",
                "    p.LastName, s.SalesYTD, a.PostalCode  \r\n",
                "FROM Sales.SalesPerson AS s   \r\n",
                "    INNER JOIN Person.Person AS p   \r\n",
                "        ON s.BusinessEntityID = p.BusinessEntityID  \r\n",
                "    INNER JOIN Person.Address AS a   \r\n",
                "        ON a.AddressID = p.BusinessEntityID  \r\n",
                "WHERE TerritoryID IS NOT NULL   \r\n",
                "    AND SalesYTD <> 0  \r\n",
                "ORDER BY PostalCode;  \r\n",
                "GO"
            ],
            "metadata": {
                "azdata_cell_guid": "57bcaac0-3504-4975-8944-0b3df39060de"
            },
            "outputs": [],
            "execution_count": null
        },
        {
            "cell_type": "markdown",
            "source": [
                "**NTILE** Distributes the rows in an ordered partition into a specified number of groups. The groups are numbered, starting at one. For each row, NTILE returns the number of the group to which the row belongs.  See:[https://docs.microsoft.com/en-us/sql/t-sql/functions/ntile-transact-sql?view=sql-server-ver15](https://docs.microsoft.com/en-us/sql/t-sql/functions/ntile-transact-sql?view=sql-server-ver15)"
            ],
            "metadata": {
                "azdata_cell_guid": "4b0524d3-4813-4acf-a55f-7c66a046a86c"
            },
            "attachments": {}
        },
        {
            "cell_type": "code",
            "source": [
                "USE AdventureWorks2019;\r\n",
                "GO  \r\n",
                "SELECT p.FirstName, p.LastName  \r\n",
                "    ,NTILE(4) OVER(ORDER BY SalesYTD DESC) AS Quartile  \r\n",
                "    ,CONVERT(NVARCHAR(20),s.SalesYTD,1) AS SalesYTD  \r\n",
                "    , a.PostalCode  \r\n",
                "FROM Sales.SalesPerson AS s   \r\n",
                "INNER JOIN Person.Person AS p   \r\n",
                "    ON s.BusinessEntityID = p.BusinessEntityID  \r\n",
                "INNER JOIN Person.Address AS a   \r\n",
                "    ON a.AddressID = p.BusinessEntityID  \r\n",
                "WHERE TerritoryID IS NOT NULL   \r\n",
                "    AND SalesYTD <> 0;  \r\n",
                "GO"
            ],
            "metadata": {
                "azdata_cell_guid": "9f7429f0-0ea7-4b4f-9c6f-04070532fd83"
            },
            "outputs": [],
            "execution_count": null
        },
        {
            "cell_type": "markdown",
            "source": [
                "# Views\n",
                "\n",
                "See: [https://docs.microsoft.com/en-us/sql/relational-databases/views/views?view=sql-server-ver15](https://docs.microsoft.com/en-us/sql/relational-databases/views/views?view=sql-server-ver15)"
            ],
            "metadata": {
                "azdata_cell_guid": "b2606879-c9f1-49ee-9fe0-70f4191c8e5c"
            },
            "attachments": {}
        },
        {
            "cell_type": "markdown",
            "source": [
                "## Indexed Views\n",
                "\n",
                "- SQL Server will used an indexed View even if it is not referenced in a query.\n",
                "- Clustered Indexes (define order in which db pages are stored) . Nonclustered Indexes are HEAPS\n",
                "- Clustered Indexes can be Rowstore or Columnstore. Rowstore being useful for OLTP systems, Columnstore for OLAP Analytics systems."
            ],
            "metadata": {
                "azdata_cell_guid": "bc66e99d-ec94-4bce-a8a0-87bee4d1da38"
            },
            "attachments": {}
        },
        {
            "cell_type": "code",
            "source": [
                "USE [AdventureWorks2019]\r\n",
                "GO\r\n",
                "\r\n",
                "/****** Object:  View [Production].[vProductAndDescription]    Script Date: 14/10/2021 11:47:08 ******/\r\n",
                "SET ANSI_NULLS ON\r\n",
                "GO\r\n",
                "\r\n",
                "SET QUOTED_IDENTIFIER ON\r\n",
                "GO\r\n",
                "\r\n",
                "\r\n",
                "CREATE VIEW [Production].[vProductAndDescription] \r\n",
                "WITH SCHEMABINDING \r\n",
                "AS \r\n",
                "-- View (indexed or standard) to display products and product descriptions by language.\r\n",
                "SELECT \r\n",
                "    p.[ProductID] \r\n",
                "    ,p.[Name] \r\n",
                "    ,pm.[Name] AS [ProductModel] \r\n",
                "    ,pmx.[CultureID] \r\n",
                "    ,pd.[Description] \r\n",
                "FROM [Production].[Product] p \r\n",
                "    INNER JOIN [Production].[ProductModel] pm \r\n",
                "    ON p.[ProductModelID] = pm.[ProductModelID] \r\n",
                "    INNER JOIN [Production].[ProductModelProductDescriptionCulture] pmx \r\n",
                "    ON pm.[ProductModelID] = pmx.[ProductModelID] \r\n",
                "    INNER JOIN [Production].[ProductDescription] pd \r\n",
                "    ON pmx.[ProductDescriptionID] = pd.[ProductDescriptionID];\r\n",
                "GO\r\n",
                ""
            ],
            "metadata": {
                "azdata_cell_guid": "c1a3308b-b837-49e9-a379-83a8cad38030"
            },
            "outputs": [],
            "execution_count": null
        },
        {
            "cell_type": "markdown",
            "source": [
                "## Partitioned Views\n",
                "\n",
                "See: [https://docs.microsoft.com/en-us/sql/t-sql/statements/create-view-transact-sql?view=sql-server-ver15#partitioned-views](https://docs.microsoft.com/en-us/sql/t-sql/statements/create-view-transact-sql?view=sql-server-ver15#partitioned-views)\n",
                "\n",
                "  \n",
                "\n",
                "See: [https://www.sqlshack.com/sql-server-partitioned-views/](https://www.sqlshack.com/sql-server-partitioned-views/)"
            ],
            "metadata": {
                "azdata_cell_guid": "3fda269d-c81b-4a09-9a3b-7b8ff2f827af"
            },
            "attachments": {}
        },
        {
            "cell_type": "markdown",
            "source": [
                "# Stored Procedures\n",
                "\n",
                "See: [https://docs.microsoft.com/en-us/sql/t-sql/statements/create-procedure-transact-sql?view=sql-server-ver15](https://docs.microsoft.com/en-us/sql/t-sql/statements/create-procedure-transact-sql?view=sql-server-ver15)"
            ],
            "metadata": {
                "azdata_cell_guid": "97aeb760-df2d-4a1c-89d7-902c66f47daa"
            },
            "attachments": {}
        },
        {
            "cell_type": "markdown",
            "source": [
                "_**\\* You will need to run this script to create the Contacts Table**_"
            ],
            "metadata": {
                "azdata_cell_guid": "c2800c24-addd-4c55-9e48-95ed2ca21061"
            },
            "attachments": {}
        },
        {
            "cell_type": "code",
            "source": [
                "USE [AdventureWorks2019]\r\n",
                "GO\r\n",
                "\r\n",
                "/****** Object:  Table [dbo].[Contacts]    Script Date: 14/10/2021 12:16:19 ******/\r\n",
                "SET ANSI_NULLS ON\r\n",
                "GO\r\n",
                "\r\n",
                "SET QUOTED_IDENTIFIER ON\r\n",
                "GO\r\n",
                "\r\n",
                "CREATE TABLE [dbo].[Contacts](\r\n",
                "\t[ID] [int] IDENTITY(1,1) NOT NULL,\r\n",
                "\t[FirstName] [varchar](40) NULL,\r\n",
                "\t[LastName] [varchar](40) NULL,\r\n",
                "\t[DateOfBirth] [date] NULL,\r\n",
                "\t[AllowContactByPhone] [bit] NULL,\r\n",
                " CONSTRAINT [PK_Contacts] PRIMARY KEY CLUSTERED \r\n",
                "(\r\n",
                "\t[ID] ASC\r\n",
                ")WITH (PAD_INDEX = OFF, STATISTICS_NORECOMPUTE = OFF, IGNORE_DUP_KEY = OFF, ALLOW_ROW_LOCKS = ON, ALLOW_PAGE_LOCKS = ON, OPTIMIZE_FOR_SEQUENTIAL_KEY = OFF) ON [PRIMARY]\r\n",
                ") ON [PRIMARY]\r\n",
                "GO\r\n",
                ""
            ],
            "metadata": {
                "azdata_cell_guid": "66009fc0-e682-40a1-9bed-01e296ba6aa7"
            },
            "outputs": [],
            "execution_count": null
        },
        {
            "cell_type": "markdown",
            "source": [
                "## INSERT RECORD & RETURN IDENTITY"
            ],
            "metadata": {
                "azdata_cell_guid": "e9098fec-f740-4d73-9d08-e6f23b111ef0"
            },
            "attachments": {}
        },
        {
            "cell_type": "code",
            "source": [
                "use AdventureWorks2019;\r\n",
                "\r\n",
                "GO\r\n",
                "\r\n",
                "DROP PROCEDURE IF EXISTS dbo.InsertContact;\r\n",
                "\r\n",
                "GO\r\n",
                "\r\n",
                "CREATE PROCEDURE dbo.InsertContact\r\n",
                "(\r\n",
                "@FirstName\t\t\t\tVARCHAR(40),\r\n",
                "@LastName\t\t\t\tVARCHAR(40),\r\n",
                "@DateOfBirth\t\t\tDATE = NULL, -- default param : \"= NULL\"\r\n",
                "@AllowContactByPhone\tBIT\r\n",
                "\r\n",
                ")\r\n",
                "AS\r\n",
                "BEGIN;\r\n",
                "\r\n",
                "DECLARE @ContactId INT;\r\n",
                "\r\n",
                "INSERT INTO dbo.Contacts(FirstName, LastName, DateOfBirth, AllowContactByPhone)\r\n",
                "\t\tVALUES(@FirstName, @LastName, @DateOfBirth, @AllowContactByPhone);\r\n",
                "\r\n",
                "-- return the record just created\r\n",
                "--SELECT @ContactId = @@IDENTITY;\r\n",
                "SELECT @ContactId = SCOPE_IDENTITY() ; -- ONLY USE ID OF LAST RECORD INSERTED FOR THIS PROC @@IDENTITY is for the whole DB\r\n",
                "SELECT ContactId, FirstName, LastName, DateOfBirth, AllowContactByPhone\r\n",
                "\tFROM dbo.Contacts\r\n",
                "WHERE ContactId = @ContactId\r\n",
                "\r\n",
                "END;\r\n",
                "\r\n",
                "GO\r\n",
                ""
            ],
            "metadata": {
                "azdata_cell_guid": "6157405c-a80e-4010-a2e7-e3a4b04b742e"
            },
            "outputs": [],
            "execution_count": null
        },
        {
            "cell_type": "markdown",
            "source": [
                "**OUTPUT PARAMETER**"
            ],
            "metadata": {
                "azdata_cell_guid": "1213f311-196b-4805-8304-610aeddd6102"
            },
            "attachments": {}
        },
        {
            "cell_type": "code",
            "source": [
                "use AdventureWorks2019;\r\n",
                "\r\n",
                "GO\r\n",
                "\r\n",
                "DROP PROCEDURE IF EXISTS dbo.InsertContact;\r\n",
                "\r\n",
                "GO\r\n",
                "\r\n",
                "CREATE PROCEDURE dbo.InsertContact\r\n",
                "(\r\n",
                "@FirstName\t\t\t\tVARCHAR(40),\r\n",
                "@LastName\t\t\t\tVARCHAR(40),\r\n",
                "@DateOfBirth\t\t\tDATE = NULL, -- default param : \"= NULL\"\r\n",
                "@AllowContactByPhone\tBIT,\r\n",
                "@ContactId\t\t\t\tINT OUTPUT -- output parameter\r\n",
                ")\r\n",
                "AS\r\n",
                "BEGIN;\r\n",
                "\r\n",
                "\r\n",
                "INSERT INTO dbo.Contacts(FirstName, LastName, DateOfBirth, AllowContactByPhone)\r\n",
                "\t\tVALUES(@FirstName, @LastName, @DateOfBirth, @AllowContactByPhone);\r\n",
                "\r\n",
                "-- return the record just created\r\n",
                "--SELECT @ContactId = @@IDENTITY;\r\n",
                "SELECT @ContactId = SCOPE_IDENTITY() ; -- ONLY USE ID OF LAST RECORD INSERTED FOR THIS PROC @@IDENTITY is for the whole DB\r\n",
                "SELECT ContactId, FirstName, LastName, DateOfBirth, AllowContactByPhone\r\n",
                "\tFROM dbo.Contacts\r\n",
                "WHERE ContactId = @ContactId\r\n",
                "\r\n",
                "END;\r\n",
                "\r\n",
                "GO\r\n",
                "\r\n",
                "\r\n",
                "-- and to call this example:\r\n",
                "\r\n",
                "\r\n",
                "USE Contacts;\r\n",
                "\r\n",
                "DECLARE @ContactIdOut INT;\r\n",
                "\r\n",
                "EXEC dbo.InsertContact\r\n",
                "@FirstName = 'Harry',\r\n",
                "@LastName = 'Houdini',\r\n",
                "--@DateOfBirth = '1935-05-06',\r\n",
                "@AllowContactByPhone = 0,\r\n",
                "@ContactId = @ContactIdOut OUTPUT; -- OUTPUT MUST BE ADDED TO OUTPUT PARAM DECLARATION\r\n",
                "\r\n",
                "select * from dbo.Contacts WHERE ContactId = @ContactIdOut order by ContactId desc;\r\n",
                "\r\n",
                "SELECT @ContactIdOut AS ContactIdOut;\r\n",
                ""
            ],
            "metadata": {
                "azdata_cell_guid": "6462f1a7-819c-43f8-bcdd-561f722293a9"
            },
            "outputs": [],
            "execution_count": null
        },
        {
            "cell_type": "markdown",
            "source": [
                "## NOCOUNT ON/OFF\n",
                "\n",
                "[https://docs.microsoft.com/en-us/sql/t-sql/statements/set-statements-transact-sql?view=sql-server-ver15](https://docs.microsoft.com/en-us/sql/t-sql/statements/set-statements-transact-sql?view=sql-server-ver15)"
            ],
            "metadata": {
                "azdata_cell_guid": "e5a5db5e-11a1-42b4-847e-a3cf7659731e"
            },
            "attachments": {}
        },
        {
            "cell_type": "code",
            "source": [
                "use AdventureWorks2019;\r\n",
                "\r\n",
                "GO\r\n",
                "\r\n",
                "DROP PROCEDURE IF EXISTS dbo.InsertContact;\r\n",
                "\r\n",
                "GO\r\n",
                "\r\n",
                "CREATE PROCEDURE dbo.InsertContact\r\n",
                "(\r\n",
                "@FirstName\t\t\t\tVARCHAR(40),\r\n",
                "@LastName\t\t\t\tVARCHAR(40),\r\n",
                "@DateOfBirth\t\t\tDATE = NULL, -- default param : \"= NULL\"\r\n",
                "@AllowContactByPhone\tBIT,\r\n",
                "@ContactId\t\t\t\tINT OUTPUT -- output parameter\r\n",
                ")\r\n",
                "AS\r\n",
                "BEGIN;\r\n",
                "\r\n",
                "SET NOCOUNT ON; -- PREVENTS SENDING METADATA WITH RESULTS, REDUCES NETWORK TRAFFIC\r\n",
                "\r\n",
                "INSERT INTO dbo.Contacts(FirstName, LastName, DateOfBirth, AllowContactByPhone)\r\n",
                "\t\tVALUES(@FirstName, @LastName, @DateOfBirth, @AllowContactByPhone);\r\n",
                "\r\n",
                "-- return the record just created\r\n",
                "--SELECT @ContactId = @@IDENTITY;\r\n",
                "SELECT @ContactId = SCOPE_IDENTITY() ; -- ONLY USE ID OF LAST RECORD INSERTED FOR THIS PROC @@IDENTITY is for the whole DB\r\n",
                "SELECT ContactId, FirstName, LastName, DateOfBirth, AllowContactByPhone\r\n",
                "\tFROM dbo.Contacts\r\n",
                "WHERE ContactId = @ContactId\r\n",
                "\r\n",
                "SET NOCOUNT OFF; -- RESET TO DEFAULT\r\n",
                "\r\n",
                "END;\r\n",
                "\r\n",
                "GO\r\n",
                ""
            ],
            "metadata": {
                "azdata_cell_guid": "3c6ab90f-7a6d-433c-a3c5-deb6132ca019"
            },
            "outputs": [],
            "execution_count": null
        },
        {
            "cell_type": "markdown",
            "source": [
                "## STORED PROCEDURE CHAIN"
            ],
            "metadata": {
                "azdata_cell_guid": "65a2eb90-aaf1-4f97-8356-0aa35ae49d4f"
            },
            "attachments": {}
        },
        {
            "cell_type": "code",
            "source": [
                "USE AdventureWorks2019;\r\n",
                "\r\n",
                "DROP PROCEDURE IF EXISTS dbo.SelectContact ;\r\n",
                "\r\n",
                "\r\n",
                "GO\r\n",
                "\r\n",
                "\r\n",
                "CREATE PROCEDURE dbo.SelectContact\r\n",
                "(\r\n",
                "\t@ContactId INT\r\n",
                ")\r\n",
                "AS\r\n",
                "BEGIN;\r\n",
                "\r\n",
                "SET NOCOUNT ON;\r\n",
                "\r\n",
                "SELECT ContactId, FirstName, LastName, DateOfBirth, AllowContactByPhone, CreatedDate \r\n",
                "\tFROM dbo.Contacts\r\n",
                "WHERE ContactId = @ContactId;\r\n",
                "\r\n",
                "SET NOCOUNT OFF;\r\n",
                "\r\n",
                "END;\r\n",
                "\r\n",
                "\r\n",
                "use Contacts;\r\n",
                "\r\n",
                "GO\r\n",
                "\r\n",
                "DROP PROCEDURE IF EXISTS dbo.InsertContact;\r\n",
                "\r\n",
                "GO\r\n",
                "\r\n",
                "CREATE PROCEDURE dbo.InsertContact\r\n",
                "(\r\n",
                "@FirstName\t\t\t\tVARCHAR(40),\r\n",
                "@LastName\t\t\t\tVARCHAR(40),\r\n",
                "@DateOfBirth\t\t\tDATE = NULL, -- default param : \"= NULL\"\r\n",
                "@AllowContactByPhone\tBIT,\r\n",
                "@ContactId\t\t\t\tINT OUTPUT -- output parameter\r\n",
                ")\r\n",
                "AS\r\n",
                "BEGIN;\r\n",
                "\r\n",
                "SET NOCOUNT ON; -- PREVENTS SENDING METADATA WITH RESULTS, REDUCES NETWORK TRAFFIC\r\n",
                "\r\n",
                "INSERT INTO dbo.Contacts(FirstName, LastName, DateOfBirth, AllowContactByPhone)\r\n",
                "\t\tVALUES(@FirstName, @LastName, @DateOfBirth, @AllowContactByPhone);\r\n",
                "\r\n",
                "-- return the record just created\r\n",
                "--SELECT @ContactId = @@IDENTITY;\r\n",
                "SELECT @ContactId = SCOPE_IDENTITY() ; -- ONLY USE ID OF LAST RECORD INSERTED FOR THIS PROC @@IDENTITY is for the whole DB\r\n",
                "\r\n",
                "EXEC dbo.SelectContact @ContactId = @ContactId;\r\n",
                "\r\n",
                "\r\n",
                "SET NOCOUNT OFF; -- RESET TO DEFAULT\r\n",
                "\r\n",
                "END;\r\n",
                "\r\n",
                "GO\r\n",
                ""
            ],
            "metadata": {
                "azdata_cell_guid": "35c27b38-f87c-489c-b6c3-7ca4abe53547"
            },
            "outputs": [],
            "execution_count": null
        },
        {
            "cell_type": "markdown",
            "source": [
                "## CONTROL FLOW"
            ],
            "metadata": {
                "azdata_cell_guid": "e8110bbf-2eaf-446a-90a9-3e0aa9b096ca"
            },
            "attachments": {}
        },
        {
            "cell_type": "code",
            "source": [
                "use AdventureWorks2019;\r\n",
                "\r\n",
                "GO\r\n",
                "\r\n",
                "DROP PROCEDURE IF EXISTS dbo.InsertContact;\r\n",
                "\r\n",
                "GO\r\n",
                "\r\n",
                "CREATE PROCEDURE dbo.InsertContact\r\n",
                "(\r\n",
                "@FirstName\t\t\t\tVARCHAR(40),\r\n",
                "@LastName\t\t\t\tVARCHAR(40),\r\n",
                "@DateOfBirth\t\t\tDATE = NULL, -- default param : \"= NULL\"\r\n",
                "@AllowContactByPhone\tBIT,\r\n",
                "@ContactId\t\t\t\tINT OUTPUT -- output parameter\r\n",
                ")\r\n",
                "AS\r\n",
                "BEGIN;\r\n",
                "\r\n",
                "SET NOCOUNT ON; -- PREVENTS SENDING METADATA WITH RESULTS, REDUCES NETWORK TRAFFIC\r\n",
                "\r\n",
                "\r\n",
                "---- check if contact already exists\r\n",
                "IF NOT EXISTS\t(SELECT 1 FROM dbo.Contacts \r\n",
                "\t\t\t\t WHERE FirstName = @FirstName AND LastName = @LastName\r\n",
                "\t\t\t\t AND DateOfBirth = @DateOfBirth)\r\n",
                "\r\n",
                "BEGIN;\r\n",
                "\t\tINSERT INTO dbo.Contacts(FirstName, LastName, DateOfBirth, AllowContactByPhone)\r\n",
                "\t\tVALUES(@FirstName, @LastName, @DateOfBirth, @AllowContactByPhone);\r\n",
                "\r\n",
                "\r\n",
                "\t\t-- return the record just created\r\n",
                "\t\t--SELECT @ContactId = @@IDENTITY;\r\n",
                "\t\tSELECT @ContactId = SCOPE_IDENTITY() ; -- ONLY USE ID OF LAST RECORD INSERTED FOR THIS PROC @@IDENTITY is for the whole DB\r\n",
                "\r\n",
                "END;\r\n",
                "\r\n",
                "EXEC dbo.SelectContact @ContactId = @ContactId;\r\n",
                "\r\n",
                "\r\n",
                "SET NOCOUNT OFF; -- RESET TO DEFAULT\r\n",
                "\r\n",
                "END;\r\n",
                "\r\n",
                "GO\r\n",
                ""
            ],
            "metadata": {
                "azdata_cell_guid": "4f7f18d9-0404-4164-9c7c-137aa9b7fa8f"
            },
            "outputs": [],
            "execution_count": null
        },
        {
            "cell_type": "markdown",
            "source": [
                "# SCHEMA & SCHEMA BINDING\n",
                "\n",
                "- [https://www.brentozar.com/archive/2010/05/why-use-schemas/](https://www.brentozar.com/archive/2010/05/why-use-schemas/)\n",
                "- [https://docs.microsoft.com/en-us/sql/t-sql/statements/create-schema-transact-sql?view=sql-server-ver15](https://docs.microsoft.com/en-us/sql/t-sql/statements/create-schema-transact-sql?view=sql-server-ver15)\n",
                "- [https://www.sqlshack.com/a-walkthrough-of-sql-schema/](https://www.sqlshack.com/a-walkthrough-of-sql-schema/)"
            ],
            "metadata": {
                "azdata_cell_guid": "683428d7-4ea8-4e10-b8be-b7dc1724d2a4"
            },
            "attachments": {}
        },
        {
            "cell_type": "markdown",
            "source": [
                "# Indexes\n",
                "\n",
                "- Index Types [https://docs.microsoft.com/en-us/sql/relational-databases/indexes/indexes?view=sql-server-ver15](https://docs.microsoft.com/en-us/sql/relational-databases/indexes/indexes?view=sql-server-ver15)\n",
                "- SQL Server Index Architecture and Design Guide [https://docs.microsoft.com/en-us/sql/relational-databases/sql-server-index-design-guide?view=sql-server-ver15](https://docs.microsoft.com/en-us/sql/relational-databases/sql-server-index-design-guide?view=sql-server-ver15)"
            ],
            "metadata": {
                "azdata_cell_guid": "4c46c63b-ebaf-45dc-83cf-7a74c02bec44"
            },
            "attachments": {}
        }
    ]
}